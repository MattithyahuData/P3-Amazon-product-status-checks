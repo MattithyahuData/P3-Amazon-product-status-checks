{
 "cells": [
  {
   "cell_type": "code",
   "execution_count": null,
   "metadata": {},
   "outputs": [],
   "source": [
    "# Goal: Task automation, to use Python to send updates on product prices. \n",
    "# To set up automation to give email alert if there is a price drop, or price availability.\n",
    "# TO DO "
   ]
  },
  {
   "cell_type": "code",
   "execution_count": 9,
   "metadata": {},
   "outputs": [],
   "source": [
    "import smtplib, ssl # Smtplib will send you email alerts\n",
    "import time\n",
    "import requests as rq # Requests library will communicate with HTTP server\n",
    "from bs4 import BeautifulSoup # Beautiful Soup will communicate with the webpage and extract the web elements"
   ]
  },
  {
   "cell_type": "code",
   "execution_count": 16,
   "metadata": {},
   "outputs": [],
   "source": [
    "# I have requested the web server from the amazon webpage.\n",
    "site = \"https://www.amazon.co.uk/gp/product/B00353ECJO/ref=ox_sc_saved_image_1?smid=&psc=1\"\n",
    "\n",
    "header = {\"User-Agent\": \"Mozilla/5.0 (Windows NT 10.0; Win64; x64) AppleWebKit/537.36 (KHTML, like Gecko) Chrome/95.0.4638.69 Safari/537.36\"}\n",
    "\n",
    "\n",
    "def send_email():\n",
    "    port = 587  # For starttls\n",
    "    smtp_server = \"smtp.gmail.com\"\n",
    "    sender_email = \"testmattyemail@gmail.com\"\n",
    "    receiver_email = \"testmattyemail@gmail.com\"\n",
    "    password = input(\"Type your password and press enter:\")\n",
    "    message = \"\"\"\\\n",
    "    Subject: Hi there\n",
    "\n",
    "    This message is sent from Python.\"\"\"\n",
    "\n",
    "    context = ssl.create_default_context()\n",
    "    with smtplib.SMTP(smtp_server, port) as server:\n",
    "        server.ehlo()  # Can be omitted\n",
    "        server.starttls(context=context)\n",
    "        server.ehlo()  # Can be omitted\n",
    "        server.login(sender_email, password)\n",
    "        server.sendmail(sender_email, receiver_email, message)\n",
    "\n",
    "# Then, I created a soup object which parses the webpage. We only want the price of the product. So, using the “select” method, we can get the price of the product.\n",
    "def get_price():\n",
    "    html = rq.get(site, headers=header).text\n",
    "    soup = BeautifulSoup(html, 'html.parser')\n",
    "    price = [i.get_text() for i in soup.find_all('span', {'class': 'a-size-medium a-color-price'})]\n",
    "    print(price)\n",
    "\n",
    "    if price != \" Currently unavailable. \":\n",
    "        send_email()"
   ]
  }
 ],
 "metadata": {
  "interpreter": {
   "hash": "b3ba2566441a7c06988d0923437866b63cedc61552a5af99d1f4fb67d367b25f"
  },
  "kernelspec": {
   "display_name": "Python 3.8.12 64-bit ('base': conda)",
   "name": "python3"
  },
  "language_info": {
   "codemirror_mode": {
    "name": "ipython",
    "version": 3
   },
   "file_extension": ".py",
   "mimetype": "text/x-python",
   "name": "python",
   "nbconvert_exporter": "python",
   "pygments_lexer": "ipython3",
   "version": "3.8.12"
  },
  "orig_nbformat": 4
 },
 "nbformat": 4,
 "nbformat_minor": 2
}
