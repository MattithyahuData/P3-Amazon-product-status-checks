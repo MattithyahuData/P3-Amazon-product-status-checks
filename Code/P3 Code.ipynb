{
 "cells": [
  {
   "cell_type": "markdown",
   "metadata": {},
   "source": [
    "### **Amazon product status checks** "
   ]
  },
  {
   "cell_type": "markdown",
   "metadata": {},
   "source": [
    "Aim: Build an automated web scraping tool to check the avaiability of Amazon products "
   ]
  },
  {
   "cell_type": "code",
   "execution_count": 15,
   "metadata": {},
   "outputs": [],
   "source": [
    "# Importing project dependencies \n",
    "import smtplib # Smtplib will send you email alerts\n",
    "import requests as rq # Requests library will communicate with HTTP server\n",
    "from bs4 import BeautifulSoup # Beautiful Soup will communicate with the webpage and extract the web elements"
   ]
  },
  {
   "cell_type": "markdown",
   "metadata": {},
   "source": [
    "### **----------------------------------  1. Email formatting and assignment  -----------------------------------**"
   ]
  },
  {
   "cell_type": "code",
   "execution_count": 16,
   "metadata": {},
   "outputs": [],
   "source": [
    "# Functions to send product availability emails to myself \n",
    "\n",
    "def av_email():\n",
    "    server = smtplib.SMTP('smtp.gmail.com', 587)\n",
    "    server.ehlo()\n",
    "    server.starttls()\n",
    "    server.ehlo()\n",
    "    sender_email = \"testmattyemail@gmail.com\"\n",
    "    receiver_email = \"testmattyemail@gmail.com\"\n",
    "    password = input(\"Type your password and press enter:\")\n",
    "\n",
    "    server.login(sender_email, password)\n",
    "\n",
    "    subject = \"Product available!\"\n",
    "    body = \"Hello, \\n\\nProduct link: https://www.amazon.co.uk/gp/product/B00353ECJO/ref=ox_sc_saved_image_1?smid=&psc=1   \\n\\nBest,  \\n\\nSent from Python\"\n",
    "    msg = f\"Subject:{subject}\\n\\n{body}\"\n",
    "\n",
    "    server.sendmail(sender_email, receiver_email, msg)\n",
    "\n",
    "    print(\"Email has been sent!\")\n",
    "    server.quit()\n",
    "\n",
    "def notav_email():\n",
    "    server = smtplib.SMTP('smtp.gmail.com', 587)\n",
    "    server.ehlo()\n",
    "    server.starttls()\n",
    "    server.ehlo()\n",
    "    sender_email = \"testmattyemail@gmail.com\"\n",
    "    receiver_email = \"testmattyemail@gmail.com\"\n",
    "    password = input(\"Type your password and press enter:\")\n",
    "\n",
    "    server.login(sender_email, password)\n",
    "\n",
    "    subject = \"Product not available yet\"\n",
    "    body = \"Hello, \\n\\nProduct link: https://www.amazon.co.uk/gp/product/B00353ECJO/ref=ox_sc_saved_image_1?smid=&psc=1   \\n\\nBest,  \\n\\nSent from Python\"\n",
    "    msg = f\"Subject:{subject}\\n\\n{body}\"\n",
    "\n",
    "    server.sendmail(sender_email, receiver_email, msg)\n",
    "\n",
    "    print(\"Email has been sent!\")\n",
    "    server.quit()"
   ]
  },
  {
   "cell_type": "markdown",
   "metadata": {},
   "source": [
    "### **----------------------------------  2. Web scraping  -----------------------------------**"
   ]
  },
  {
   "cell_type": "code",
   "execution_count": 17,
   "metadata": {},
   "outputs": [],
   "source": [
    "# I have requested the web server from the amazon webpage.\n",
    "site = \"https://www.amazon.co.uk/gp/product/B00353ECJO/ref=ox_sc_saved_image_1?smid=&psc=1\"\n",
    "\n",
    "# Find Your User-Agent: https://httpbin.org/get\n",
    "header = {\"User-Agent\": \"Mozilla/5.0 (Windows NT 10.0; Win64; x64) AppleWebKit/537.36 (KHTML, like Gecko) Chrome/95.0.4638.69 Safari/537.36\"}\n",
    "\n",
    "# Soup object which parses the webpage. \n",
    "def get_price():\n",
    "    html = rq.get(site, headers=header).text\n",
    "    soup = BeautifulSoup(html, 'html.parser')\n",
    "    results = soup.find(id=\"availability\")\n",
    "    # Within that id above ^ results.find loks for <span> within that id with particular class and get_text() to extract the text within\n",
    "    available = results.find(\"span\", class_=\"a-size-medium a-color-success\").get_text() # find used instead of find_all becasue we are not looking for a list\n",
    "    \n",
    "    # If string 'Currently unavailable.' is in text then product is unavailable.\n",
    "    if 'Currently unavailable.' in available:\n",
    "        notav_email()\n",
    "    else: # just else and not [  elif 'In stock.' in available: ] as it can also be only 10 remaining or 5 remaining etc  # See -> \"Availability types.docx\"\n",
    "        av_email()\n"
   ]
  },
  {
   "cell_type": "code",
   "execution_count": 18,
   "metadata": {},
   "outputs": [
    {
     "name": "stdout",
     "output_type": "stream",
     "text": [
      "Email has been sent!\n"
     ]
    }
   ],
   "source": [
    "# Function call to check product availability\n",
    "get_price()"
   ]
  },
  {
   "cell_type": "markdown",
   "metadata": {},
   "source": [
    "The span class HTML will change slightly from when it is unavailable to when it is available, but it is safe to say when you stop recieiving emails about it being unavaialble then its probably now avaialble. \n",
    "\n",
    "Product Page HTML BEFORE\n",
    "<span class=\"a-size-medium a-color-price\">\n",
    "Currently unavailable.\n",
    "\n",
    "Product Page HTML AFTER\n",
    "<span class=\"a-size-medium a-color-success\">\n",
    "In stock on November 11, 2021."
   ]
  },
  {
   "cell_type": "markdown",
   "metadata": {},
   "source": [
    "<img src=\"images/Unavailable email.png\" title=\"BEFORE\"/>"
   ]
  },
  {
   "cell_type": "markdown",
   "metadata": {},
   "source": [
    "<img src=\"images/Available email.png\" title=\"AFTER\" />"
   ]
  }
 ],
 "metadata": {
  "interpreter": {
   "hash": "b3ba2566441a7c06988d0923437866b63cedc61552a5af99d1f4fb67d367b25f"
  },
  "kernelspec": {
   "display_name": "Python 3.8.12 64-bit ('base': conda)",
   "name": "python3"
  },
  "language_info": {
   "codemirror_mode": {
    "name": "ipython",
    "version": 3
   },
   "file_extension": ".py",
   "mimetype": "text/x-python",
   "name": "python",
   "nbconvert_exporter": "python",
   "pygments_lexer": "ipython3",
   "version": "3.8.8"
  },
  "orig_nbformat": 4
 },
 "nbformat": 4,
 "nbformat_minor": 2
}
